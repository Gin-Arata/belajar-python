{
 "cells": [
  {
   "cell_type": "code",
   "execution_count": 59,
   "metadata": {},
   "outputs": [],
   "source": [
    "text = input(\"Enter your message in here -> \")\n",
    "range = int(input(\"Enter your range in here -> \"))\n",
    "alphabet = \"abcdefghijklmnopqrstuvwxyz\""
   ]
  },
  {
   "cell_type": "code",
   "execution_count": 60,
   "metadata": {},
   "outputs": [],
   "source": [
    "def caesar_cipher(message, shift, direction=1):\n",
    "    encryptedText = \"\"\n",
    "    \n",
    "    for i in message.lower():\n",
    "        char = i\n",
    "        \n",
    "        if not char.isalpha():\n",
    "            encryptedText += char\n",
    "        else:\n",
    "            charIndex = alphabet.index(char)\n",
    "            newIndex = (charIndex + shift * direction) % len(alphabet)\n",
    "            encryptedText += alphabet[newIndex]\n",
    "\n",
    "    return encryptedText\n",
    "    "
   ]
  },
  {
   "cell_type": "code",
   "execution_count": 61,
   "metadata": {},
   "outputs": [
    {
     "name": "stdout",
     "output_type": "stream",
     "text": [
      "Your Text: test!\n",
      "Your Encrypted Text: vguv!\n"
     ]
    }
   ],
   "source": [
    "encryptedText = caesar_cipher(text, range)\n",
    "print(\"Your Text:\", text)\n",
    "print(\"Your Encrypted Text:\", encryptedText)"
   ]
  }
 ],
 "metadata": {
  "kernelspec": {
   "display_name": "base",
   "language": "python",
   "name": "python3"
  },
  "language_info": {
   "codemirror_mode": {
    "name": "ipython",
    "version": 3
   },
   "file_extension": ".py",
   "mimetype": "text/x-python",
   "name": "python",
   "nbconvert_exporter": "python",
   "pygments_lexer": "ipython3",
   "version": "3.12.3"
  }
 },
 "nbformat": 4,
 "nbformat_minor": 2
}
