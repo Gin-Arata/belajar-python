{
 "cells": [
  {
   "cell_type": "code",
   "execution_count": 28,
   "metadata": {},
   "outputs": [],
   "source": [
    "text = input(\"Enter your message: \")\n",
    "key = input(\"Enter your key: \")"
   ]
  },
  {
   "cell_type": "code",
   "execution_count": 29,
   "metadata": {},
   "outputs": [],
   "source": [
    "def vigenere(message, key, direction=1):\n",
    "    alphabet = \"abcdefghijklmnopqrstuvwxyz\"\n",
    "    key_index = 0\n",
    "    encrypted_text = \"\"\n",
    "        \n",
    "    for i in message.lower():\n",
    "        char = i\n",
    "            \n",
    "        if not char.isalpha():\n",
    "            encrypted_text += char\n",
    "        else: \n",
    "            key_char = key[key_index % len(key)]\n",
    "            key_index += 1\n",
    "            offset = alphabet.index(key_char)\n",
    "            index = alphabet.index(char)\n",
    "            new_index = (index + offset * direction) % len(alphabet)\n",
    "            encrypted_text += alphabet[new_index]\n",
    "    return encrypted_text\n",
    "        "
   ]
  },
  {
   "cell_type": "code",
   "execution_count": 30,
   "metadata": {},
   "outputs": [
    {
     "name": "stdout",
     "output_type": "stream",
     "text": [
      "Your Message: hello world\n",
      "Your Key: tukiyem\n",
      "Encrypted Message: ayvtm aakfn\n"
     ]
    }
   ],
   "source": [
    "encrypted_text = vigenere(text, key)\n",
    "print(\"Your Message:\", text)\n",
    "print(\"Your Key:\", key)\n",
    "print(\"Encrypted Message:\", encrypted_text)"
   ]
  }
 ],
 "metadata": {
  "kernelspec": {
   "display_name": "base",
   "language": "python",
   "name": "python3"
  },
  "language_info": {
   "codemirror_mode": {
    "name": "ipython",
    "version": 3
   },
   "file_extension": ".py",
   "mimetype": "text/x-python",
   "name": "python",
   "nbconvert_exporter": "python",
   "pygments_lexer": "ipython3",
   "version": "3.12.3"
  }
 },
 "nbformat": 4,
 "nbformat_minor": 2
}
